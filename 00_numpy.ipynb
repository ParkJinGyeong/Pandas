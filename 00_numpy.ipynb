{
 "cells": [
  {
   "cell_type": "code",
   "execution_count": 4,
   "id": "87647147-04a7-49b0-8cc5-c6ca42160537",
   "metadata": {},
   "outputs": [],
   "source": [
    "import numpy as np"
   ]
  },
  {
   "cell_type": "code",
   "execution_count": 5,
   "id": "3a813497-a3f2-4af3-84c9-345de69d067a",
   "metadata": {},
   "outputs": [],
   "source": [
    "my_arr = np.arange(1000000) #넘파이의 객체로 100만개 \n",
    "my_list = list(range(1000000)) #리스트의 형식으로 100만개 "
   ]
  },
  {
   "cell_type": "code",
   "execution_count": 8,
   "id": "4471974b-2b23-41ed-9e09-b322c1a60daa",
   "metadata": {},
   "outputs": [
    {
     "name": "stdout",
     "output_type": "stream",
     "text": [
      "[[   5.     1.1   -5. ]\n",
      " [ 123.  -123.     0. ]]\n"
     ]
    }
   ],
   "source": [
    "a = [\n",
    "    [5, 1.1, -5],\n",
    "    [123, -123, 0]\n",
    "]\n",
    "data = np.array(a) #리스트 함수룰 넘파이 형식으로 변환 \n",
    "print(data) \n",
    "#float가 있어서 다른 int도 float로 변환 "
   ]
  },
  {
   "cell_type": "code",
   "execution_count": 11,
   "id": "ff9803c5-2e77-49e0-bbcf-0e861504cbe0",
   "metadata": {},
   "outputs": [
    {
     "name": "stdout",
     "output_type": "stream",
     "text": [
      "[[   50.    11.   -50.]\n",
      " [ 1230. -1230.     0.]]\n",
      "[[  10.     2.2  -10. ]\n",
      " [ 246.  -246.     0. ]]\n"
     ]
    }
   ],
   "source": [
    "print(data * 10)\n",
    "print(data + data) #배열의 길이가 똑같"
   ]
  },
  {
   "cell_type": "code",
   "execution_count": 14,
   "id": "014cc74e-55fa-4f91-a730-5daa2205a860",
   "metadata": {},
   "outputs": [
    {
     "name": "stdout",
     "output_type": "stream",
     "text": [
      "(2, 3)\n",
      "float64\n"
     ]
    }
   ],
   "source": [
    "print(data.shape) #이 배열의 크기가 얼마나 됩니까 ? \n",
    "print(data.dtype) #이 배열의 형태가 어떻게 됩니까 ? #이 진수 숫자 세상에서 칸이 총 64칸이다 "
   ]
  },
  {
   "cell_type": "markdown",
   "id": "f24c1aea-0c6f-4f36-b422-ee87f8b4d21c",
   "metadata": {},
   "source": [
    "### 1.1 ndarrary 생성"
   ]
  },
  {
   "cell_type": "code",
   "execution_count": 16,
   "id": "fda7daba-f3b8-4d00-929c-311d66626e28",
   "metadata": {},
   "outputs": [
    {
     "name": "stdout",
     "output_type": "stream",
     "text": [
      "[4 1 2 6 3]\n"
     ]
    }
   ],
   "source": [
    "my_list = [4, 1, 2, 6, 3]\n",
    "arr = np.array(my_list)\n",
    "print(arr)"
   ]
  },
  {
   "cell_type": "code",
   "execution_count": 18,
   "id": "da846d62-5239-4cc1-88c3-f50f483678aa",
   "metadata": {},
   "outputs": [
    {
     "name": "stdout",
     "output_type": "stream",
     "text": [
      "[[1 2 3]\n",
      " [4 5 6]]\n"
     ]
    }
   ],
   "source": [
    "my_list2 = [[1, 2, 3],[4, 5, 6]]\n",
    "arr2 = np.array(my_list2)\n",
    "print(arr2)"
   ]
  },
  {
   "cell_type": "code",
   "execution_count": 19,
   "id": "eff94bc7-ca5e-4781-af4f-08c22716a9bb",
   "metadata": {},
   "outputs": [
    {
     "name": "stdout",
     "output_type": "stream",
     "text": [
      "int64\n",
      "int64\n"
     ]
    }
   ],
   "source": [
    "print(arr.dtype)\n",
    "print(arr2.dtype)"
   ]
  },
  {
   "cell_type": "code",
   "execution_count": 20,
   "id": "f85bed16-bd30-44d7-b8a1-408f0f854caf",
   "metadata": {},
   "outputs": [
    {
     "name": "stdout",
     "output_type": "stream",
     "text": [
      "(5,)\n"
     ]
    }
   ],
   "source": [
    "print(arr.shape) #ex)2행 3열 "
   ]
  },
  {
   "cell_type": "code",
   "execution_count": 134,
   "id": "e8fa2872-d47d-4f50-8601-130b61fa88be",
   "metadata": {},
   "outputs": [
    {
     "name": "stdout",
     "output_type": "stream",
     "text": [
      "2\n",
      "1\n"
     ]
    }
   ],
   "source": [
    "print(arr.ndim)\n",
    "print(arr2.ndim)\n",
    "\n",
    "# 몇차원인지 말해주는 것 (디멘션)"
   ]
  },
  {
   "cell_type": "code",
   "execution_count": 26,
   "id": "3f735b0c-acc9-4661-8cc3-82a8f12bc37f",
   "metadata": {},
   "outputs": [
    {
     "name": "stdout",
     "output_type": "stream",
     "text": [
      "[0. 0. 0. 0. 0. 0. 0. 0. 0. 0.]\n",
      "[[0. 0. 0. 0. 0.]\n",
      " [0. 0. 0. 0. 0.]\n",
      " [0. 0. 0. 0. 0.]\n",
      " [0. 0. 0. 0. 0.]\n",
      " [0. 0. 0. 0. 0.]]\n",
      "[[[7.41751704e-312 7.41751704e-312 7.41751705e-312 7.41751705e-312\n",
      "   7.41751705e-312 7.41751705e-312 7.41751703e-312 7.41751738e-312\n",
      "   7.41751739e-312 7.41751739e-312 7.41751739e-312 7.41751739e-312\n",
      "   7.41751739e-312 7.41751739e-312 7.41751739e-312 7.41751739e-312\n",
      "   7.41930442e-312 7.41930444e-312 7.41930746e-312 7.41930440e-312\n",
      "   7.41930440e-312 7.41925698e-312 7.41925698e-312 7.41925698e-312\n",
      "   7.41925698e-312 7.41925698e-312 7.41925698e-312 7.41925698e-312\n",
      "   7.41925698e-312 7.41925698e-312 7.41925698e-312 7.41925698e-312\n",
      "   7.41925699e-312 7.41925699e-312 7.41925699e-312 7.41925699e-312\n",
      "   7.41925699e-312 7.41925695e-312 7.41925699e-312 7.41925699e-312\n",
      "   7.41925699e-312 7.41925699e-312 7.41925699e-312 7.41925699e-312]\n",
      "  [7.41925699e-312 7.41925699e-312 7.41925699e-312 7.41925699e-312\n",
      "   7.41925699e-312 7.41925699e-312 7.41925699e-312 7.41925699e-312\n",
      "   7.41925699e-312 7.41925699e-312 7.41925699e-312 7.41925699e-312\n",
      "   7.41925699e-312 7.41925700e-312 7.41925700e-312 7.41925700e-312\n",
      "   7.41925700e-312 7.41925700e-312 7.41925700e-312 7.41925700e-312\n",
      "   7.41925700e-312 7.41925700e-312 7.41925700e-312 7.41925700e-312\n",
      "   7.41925700e-312 7.41925700e-312 7.41925700e-312 7.41925700e-312\n",
      "   7.41925700e-312 7.41925700e-312 7.41925700e-312 7.41925700e-312\n",
      "   7.41925696e-312 7.41925700e-312 7.41925700e-312 7.41925700e-312\n",
      "   7.41925700e-312 7.41925700e-312 7.41925701e-312 7.41925700e-312\n",
      "   7.41925701e-312 7.41925701e-312 7.41925701e-312 7.41925701e-312]\n",
      "  [7.41925701e-312 7.41925701e-312 7.41925701e-312 7.41925701e-312\n",
      "   7.41925701e-312 7.41925701e-312 7.41925701e-312 7.41925701e-312\n",
      "   7.41925701e-312 7.41925701e-312 7.41925701e-312 7.41925701e-312\n",
      "   7.41925701e-312 7.41925701e-312 7.41925701e-312 7.41925701e-312\n",
      "   7.41925701e-312 7.41925701e-312 7.41925701e-312 7.41925702e-312\n",
      "   7.41925702e-312 7.41925702e-312 7.41925702e-312 7.41925702e-312\n",
      "   7.41925702e-312 7.41925702e-312 7.41925702e-312 7.41925702e-312\n",
      "   7.41925702e-312 7.41925702e-312 7.41925702e-312 7.41925702e-312\n",
      "   7.41925702e-312 7.41925702e-312 7.41925702e-312 7.41925702e-312\n",
      "   7.41925702e-312 7.41925702e-312 7.41925702e-312 7.41925702e-312\n",
      "   7.41925702e-312 7.41925702e-312 7.41925702e-312 7.41925702e-312]]\n",
      "\n",
      " [[7.41925702e-312 7.41925703e-312 7.41925702e-312 7.41925703e-312\n",
      "   7.41925703e-312 7.41925703e-312 7.41925703e-312 7.41925703e-312\n",
      "   7.41925703e-312 7.41925703e-312 7.41925697e-312 7.41925697e-312\n",
      "   7.41925701e-312 7.41925697e-312 7.41925698e-312 7.41925697e-312\n",
      "   7.41925698e-312 7.41925698e-312 7.41925698e-312 7.41925698e-312\n",
      "   7.41925698e-312 7.41925698e-312 7.41925698e-312 7.41925698e-312\n",
      "   7.41925699e-312 7.41925699e-312 7.41925699e-312 7.41925699e-312\n",
      "   7.41925699e-312 7.41925700e-312 7.41925700e-312 7.41925700e-312\n",
      "   7.41925695e-312 7.41925700e-312 7.41925701e-312 7.41925701e-312\n",
      "   7.41925701e-312 7.41925701e-312 7.41925702e-312 7.41925701e-312\n",
      "   7.41925702e-312 7.41925699e-312 7.41925702e-312 7.41925702e-312]\n",
      "  [7.41925702e-312 7.41925703e-312 7.41924437e-312 7.41924433e-312\n",
      "   7.41924436e-312 7.41924440e-312 7.41924439e-312 7.41924432e-312\n",
      "   7.41924432e-312 7.41924432e-312 7.41924432e-312 7.41924433e-312\n",
      "   7.41924432e-312 7.41924432e-312 7.41924432e-312 7.41924432e-312\n",
      "   7.41924432e-312 7.41924433e-312 7.41924433e-312 7.41924433e-312\n",
      "   7.41924433e-312 7.41924433e-312 7.41924433e-312 7.41924433e-312\n",
      "   7.41924433e-312 7.41924433e-312 7.41924433e-312 7.41924433e-312\n",
      "   7.41924433e-312 7.41924434e-312 7.41924434e-312 7.41924434e-312\n",
      "   7.41924434e-312 7.41924434e-312 7.41924434e-312 7.41924434e-312\n",
      "   7.41924434e-312 7.41924434e-312 7.41924434e-312 7.41924434e-312\n",
      "   7.41924434e-312 7.41924435e-312 7.41924435e-312 7.41924435e-312]\n",
      "  [7.41924435e-312 7.41924435e-312 7.41924435e-312 7.41924435e-312\n",
      "   7.41924435e-312 7.41924435e-312 7.41924435e-312 7.41924435e-312\n",
      "   7.41924435e-312 7.41924435e-312 7.41924436e-312 7.41924436e-312\n",
      "   7.41924437e-312 7.41924437e-312 7.41924437e-312 7.41924437e-312\n",
      "   7.41924437e-312 7.41924437e-312 7.41924437e-312 7.41924437e-312\n",
      "   7.41924434e-312 7.41924438e-312 7.41924438e-312 7.41924438e-312\n",
      "   7.41924438e-312 7.41924438e-312 7.41924434e-312 7.41924438e-312\n",
      "   7.41924438e-312 7.41924438e-312 7.41924438e-312 7.41924438e-312\n",
      "   7.41924438e-312 7.41924438e-312 7.41924669e-312 7.41924669e-312\n",
      "   7.41924669e-312 7.41924669e-312 7.41931803e-312 7.41924806e-312\n",
      "   7.41924669e-312 7.41924829e-312 7.41924669e-312 7.41924669e-312]]]\n"
     ]
    }
   ],
   "source": [
    "np.zeros(10)\n",
    "print(np.zeros(10)) #임시로 만들어주세요 #편한 기능 \n",
    "print(np.zeros((5,5)))\n",
    "print(np.empty((2, 3, 44)))"
   ]
  },
  {
   "cell_type": "code",
   "execution_count": 137,
   "id": "931bf80e-5419-4469-bd11-b787ee5ae1eb",
   "metadata": {},
   "outputs": [
    {
     "name": "stdout",
     "output_type": "stream",
     "text": [
      "[ 0  1  2  3  4  5  6  7  8  9 10 11]\n"
     ]
    }
   ],
   "source": [
    "print(np.arange(12))"
   ]
  },
  {
   "cell_type": "markdown",
   "id": "f4d189fa-0fcf-4597-85c3-122477f94f70",
   "metadata": {},
   "source": [
    "### 1.2 자료형"
   ]
  },
  {
   "cell_type": "code",
   "execution_count": 139,
   "id": "9836f6e2-121d-49ca-b5b2-a5a242fa2dd7",
   "metadata": {},
   "outputs": [
    {
     "name": "stdout",
     "output_type": "stream",
     "text": [
      "float64\n",
      "int32\n"
     ]
    }
   ],
   "source": [
    "arr1 = np.array([1,3,4], dtype = np.float64)\n",
    "arr2 = np.array([1,3,4],dtype = np.int32)\n",
    "print(arr1.dtype) \n",
    "print(arr2.dtype)"
   ]
  },
  {
   "cell_type": "code",
   "execution_count": 31,
   "id": "de4d5915-2eda-4993-9f5d-66a925a8e094",
   "metadata": {},
   "outputs": [
    {
     "name": "stdout",
     "output_type": "stream",
     "text": [
      "[1 2 3 4 5]\n",
      "[1. 2. 3. 4. 5.]\n",
      "float32\n"
     ]
    }
   ],
   "source": [
    "arr = np.array([1, 2, 3, 4, 5])\n",
    "print(arr)\n",
    "float_arr = arr.astype(np.float32)\n",
    "print(float_arr)\n",
    "print(float_arr.dtype)"
   ]
  },
  {
   "cell_type": "code",
   "execution_count": 140,
   "id": "c8f2dee6-6f6f-4bca-983d-f84351bae3e2",
   "metadata": {},
   "outputs": [
    {
     "name": "stdout",
     "output_type": "stream",
     "text": [
      "[ 1  2  3 -1 -2 -3]\n"
     ]
    }
   ],
   "source": [
    "arr = np.array([1.1, 2.2, 3.3, -1.1, -2.2, -3.3])\n",
    "result = arr.astype(np.int32) #데이터 형식을 astype을 통해 int32로 변경하는 것\n",
    "print(result)"
   ]
  },
  {
   "cell_type": "code",
   "execution_count": 141,
   "id": "be9bcc28-e996-4d43-a9c0-cabadf6ced82",
   "metadata": {},
   "outputs": [
    {
     "name": "stdout",
     "output_type": "stream",
     "text": [
      "[12 34 56]\n"
     ]
    }
   ],
   "source": [
    "result = np.array(['12', '34', '56'], dtype=np.int32)\n",
    "print(result)"
   ]
  },
  {
   "cell_type": "code",
   "execution_count": 33,
   "id": "f05247aa-4f62-4f42-859c-1cf31e9720d8",
   "metadata": {},
   "outputs": [
    {
     "name": "stdout",
     "output_type": "stream",
     "text": [
      "[1 2]\n"
     ]
    }
   ],
   "source": [
    "arr = np.array([1.1, 2.2])\n",
    "result = arr.astype(np.int32)\n",
    "print(result)"
   ]
  },
  {
   "cell_type": "code",
   "execution_count": 142,
   "id": "31b54a43-0e73-4835-b5c7-fb1817eb9237",
   "metadata": {},
   "outputs": [
    {
     "name": "stdout",
     "output_type": "stream",
     "text": [
      "[12 34 56]\n"
     ]
    }
   ],
   "source": [
    "np.array(['12', '34'], dtype = np.int32)\n",
    "print(result)"
   ]
  },
  {
   "cell_type": "markdown",
   "id": "febdbbc2-d1e2-4f38-89bf-3372f08b616a",
   "metadata": {},
   "source": [
    "### 1.3연산 "
   ]
  },
  {
   "cell_type": "code",
   "execution_count": 143,
   "id": "3b984463-6505-48b5-95ce-94a5df702199",
   "metadata": {},
   "outputs": [
    {
     "name": "stdout",
     "output_type": "stream",
     "text": [
      "[[1 2 3]\n",
      " [4 5 6]]\n"
     ]
    }
   ],
   "source": [
    "arr = np.array(([1,2,3],[4,5,6]))\n",
    "print(arr)"
   ]
  },
  {
   "cell_type": "code",
   "execution_count": 38,
   "id": "9f81a41b-c852-4fab-9a49-29bc706bb3c7",
   "metadata": {},
   "outputs": [
    {
     "name": "stdout",
     "output_type": "stream",
     "text": [
      "[[ 2  4  6]\n",
      " [ 8 10 12]]\n"
     ]
    }
   ],
   "source": [
    "print(arr + arr)"
   ]
  },
  {
   "cell_type": "code",
   "execution_count": 39,
   "id": "cf120254-f260-4162-875b-e29f0d0d57a0",
   "metadata": {},
   "outputs": [
    {
     "name": "stdout",
     "output_type": "stream",
     "text": [
      "[[0 0 0]\n",
      " [0 0 0]]\n"
     ]
    }
   ],
   "source": [
    "print(arr - arr)"
   ]
  },
  {
   "cell_type": "code",
   "execution_count": 40,
   "id": "c37022f7-b701-4afa-9e90-2ea41c003504",
   "metadata": {},
   "outputs": [
    {
     "name": "stdout",
     "output_type": "stream",
     "text": [
      "[[0.1 0.2 0.3]\n",
      " [0.4 0.5 0.6]]\n",
      "[[ 1  4  9]\n",
      " [16 25 36]]\n"
     ]
    }
   ],
   "source": [
    "print(arr/ 10)\n",
    "print(arr ** 2)"
   ]
  },
  {
   "cell_type": "code",
   "execution_count": 42,
   "id": "bd87490a-52b2-4b8f-b079-1304c8edbef4",
   "metadata": {},
   "outputs": [
    {
     "name": "stdout",
     "output_type": "stream",
     "text": [
      "[[False False False]\n",
      " [False False  True]]\n"
     ]
    }
   ],
   "source": [
    "arr2 = ([7,8,9], [8,9,0])\n",
    "print(arr > arr2) #각각의 자리에서 맞는걸 보기 # 중요한 문법 # ex) 매출 데이터 뽑아오고 싶으면 이걸 활용하기"
   ]
  },
  {
   "cell_type": "markdown",
   "id": "586fc8af-47f3-410d-8cf1-74e6b9eed413",
   "metadata": {},
   "source": [
    "### 1.4 인덱싱, 슬라이싱"
   ]
  },
  {
   "cell_type": "code",
   "execution_count": 45,
   "id": "c0afc623-0bbd-4955-9c09-ba5c044f6f62",
   "metadata": {},
   "outputs": [
    {
     "name": "stdout",
     "output_type": "stream",
     "text": [
      "[0 1 2 3 4 5 6 7 8 9]\n"
     ]
    }
   ],
   "source": [
    "arr = np.arange(10)\n",
    "print(arr)"
   ]
  },
  {
   "cell_type": "code",
   "execution_count": 46,
   "id": "35a9076d-0b69-41f3-9666-2dbdedea8b43",
   "metadata": {},
   "outputs": [
    {
     "name": "stdout",
     "output_type": "stream",
     "text": [
      "5\n"
     ]
    }
   ],
   "source": [
    "#숫자 4만 타겟하고 싶으면 파이썬이랑 똑같이 인덱싱 하면 됨 \n",
    "print(arr[5])"
   ]
  },
  {
   "cell_type": "code",
   "execution_count": 48,
   "id": "0d3a4b10-b54e-476f-a729-f7015cc87efc",
   "metadata": {},
   "outputs": [
    {
     "name": "stdout",
     "output_type": "stream",
     "text": [
      "[ 0  1  2 99 99 99  6  7  8  9]\n"
     ]
    }
   ],
   "source": [
    "arr[3:6] = 99\n",
    "print(arr) #실제 데이터에 반영하는 것"
   ]
  },
  {
   "cell_type": "code",
   "execution_count": 49,
   "id": "d95ba31c-845f-416d-8257-2f6f793cc4e8",
   "metadata": {},
   "outputs": [
    {
     "name": "stdout",
     "output_type": "stream",
     "text": [
      "[99 99 99]\n"
     ]
    }
   ],
   "source": [
    "slice_arr = arr[3:6]\n",
    "print(slice_arr)"
   ]
  },
  {
   "cell_type": "code",
   "execution_count": 144,
   "id": "5385c8d7-82bf-41e6-a2a1-a03f660b8bff",
   "metadata": {},
   "outputs": [
    {
     "name": "stdout",
     "output_type": "stream",
     "text": [
      "[0 1 2 3 4 5 6 7 8 9]\n",
      "5\n",
      "[3 4 5]\n",
      "[ 0  1  2 99 99 99  6  7  8  9]\n"
     ]
    }
   ],
   "source": [
    "arr = np.arange(10)\n",
    "print(arr)\n",
    "print(arr[5])\n",
    "print(arr[3:6])\n",
    "\n",
    "arr[3:6] = 99\n",
    "print(arr)"
   ]
  },
  {
   "cell_type": "code",
   "execution_count": 50,
   "id": "1fc59628-fdfb-4700-979d-cf16e3227fbc",
   "metadata": {},
   "outputs": [
    {
     "name": "stdout",
     "output_type": "stream",
     "text": [
      "[99 55 99]\n",
      "[ 0  1  2 99 55 99  6  7  8  9]\n"
     ]
    }
   ],
   "source": [
    "slice_arr[1] = 55 #슬라이싱 처리를 해서 가져왔다고 생각하지만, 원본은 쭉 ~ 연결 되어있음 \n",
    "print(slice_arr)\n",
    "print(arr)"
   ]
  },
  {
   "cell_type": "code",
   "execution_count": 52,
   "id": "b89a1e33-6695-4806-b16c-91c93b597d2c",
   "metadata": {},
   "outputs": [],
   "source": [
    "a = [[1, 2, 3], [4, 5, 6], [7, 8, 9]]\n",
    "arr = np.array(a)"
   ]
  },
  {
   "cell_type": "code",
   "execution_count": 54,
   "id": "fd7f99fb-c5c2-4962-9907-a0404a7dd5f3",
   "metadata": {},
   "outputs": [
    {
     "name": "stdout",
     "output_type": "stream",
     "text": [
      "5\n",
      "5\n"
     ]
    }
   ],
   "source": [
    "print(arr[1][1])\n",
    "print(arr[1, 1])\n",
    "# 2차원 arr 라서 두 가지 방식으로 접근이 가능하다 "
   ]
  },
  {
   "cell_type": "code",
   "execution_count": 55,
   "id": "006e9159-0362-422e-840b-5147bdf0033f",
   "metadata": {},
   "outputs": [],
   "source": [
    "arr = ([[[1, 2, 3, 4],\n",
    "               [5, 6, 7, 8],\n",
    "               [9, 10, 11, 12]],\n",
    "              [[11, 12, 13, 14],\n",
    "               [15, 16, 17, 18],\n",
    "               [19, 20, 21, 22]]])"
   ]
  },
  {
   "cell_type": "code",
   "execution_count": 56,
   "id": "b674251a-686f-411d-8920-606007a0c0f3",
   "metadata": {},
   "outputs": [
    {
     "name": "stdout",
     "output_type": "stream",
     "text": [
      "[[1, 2, 3, 4], [5, 6, 7, 8], [9, 10, 11, 12]]\n",
      "1\n"
     ]
    },
    {
     "ename": "TypeError",
     "evalue": "list indices must be integers or slices, not tuple",
     "output_type": "error",
     "traceback": [
      "\u001b[1;31m---------------------------------------------------------------------------\u001b[0m",
      "\u001b[1;31mTypeError\u001b[0m                                 Traceback (most recent call last)",
      "Cell \u001b[1;32mIn[56], line 3\u001b[0m\n\u001b[0;32m      1\u001b[0m \u001b[38;5;28mprint\u001b[39m(arr[\u001b[38;5;241m0\u001b[39m])\n\u001b[0;32m      2\u001b[0m \u001b[38;5;28mprint\u001b[39m(arr[\u001b[38;5;241m0\u001b[39m][\u001b[38;5;241m0\u001b[39m][\u001b[38;5;241m0\u001b[39m])\n\u001b[1;32m----> 3\u001b[0m \u001b[38;5;28mprint\u001b[39m(\u001b[43marr\u001b[49m\u001b[43m[\u001b[49m\u001b[38;5;241;43m0\u001b[39;49m\u001b[43m,\u001b[49m\u001b[38;5;241;43m0\u001b[39;49m\u001b[43m]\u001b[49m[\u001b[38;5;241m0\u001b[39m])\n",
      "\u001b[1;31mTypeError\u001b[0m: list indices must be integers or slices, not tuple"
     ]
    }
   ],
   "source": [
    "print(arr[0])\n",
    "print(arr[0][0][0])\n",
    "print(arr[0,0][0])"
   ]
  },
  {
   "cell_type": "code",
   "execution_count": 145,
   "id": "b09801ab-f1e8-4596-bf48-35a22d902c94",
   "metadata": {},
   "outputs": [
    {
     "name": "stdout",
     "output_type": "stream",
     "text": [
      "[[[ 1  2  3]\n",
      "  [ 4  5  6]]\n",
      "\n",
      " [[ 7  8  9]\n",
      "  [10 11 12]]]\n"
     ]
    }
   ],
   "source": [
    "a = [\n",
    "        [\n",
    "            [1, 2, 3],\n",
    "            [4, 5, 6]\n",
    "        ],\n",
    "        [\n",
    "            [7, 8, 9],\n",
    "            [10, 11, 12]\n",
    "        \n",
    "        ]\n",
    "]\n",
    "arr = np.array(a)\n",
    "print(arr)"
   ]
  },
  {
   "cell_type": "code",
   "execution_count": 146,
   "id": "f16e23f4-f9bc-42eb-ba1b-d98628abfe3b",
   "metadata": {},
   "outputs": [
    {
     "name": "stdout",
     "output_type": "stream",
     "text": [
      "[[1 2 3]\n",
      " [4 5 6]]\n",
      "1\n",
      "1\n"
     ]
    }
   ],
   "source": [
    "print(arr[0])\n",
    "print(arr[0][0][0])\n",
    "print(arr[0, 0][0])\n",
    "#arr[0]은 arr 배열의 첫 번째 2차원 배열을 의미합니다.\n",
    "#arr[0][0]은 첫 번째 2차원 배열의 첫 번째 1차원 배열을 의미합니다.\n",
    "#arr[0][0][0]은 첫 번째 1차원 배열의 첫 번째 요소를 의미합니다.\n",
    "#결과적으로, 1이 출력됩니다.\n",
    "#arr[0, 0]은 다중 인덱싱을 사용하여 arr 배열의 첫 번째 2차원 배열의 첫 번째 1차원 배열을 의미합니다.\n",
    "#arr[0, 0][0]은 첫 번째 1차원 배열의 첫 번째 요소를 의미합니다.\n",
    "#결과적으로, 1이 출력됩니다."
   ]
  },
  {
   "cell_type": "code",
   "execution_count": 59,
   "id": "c84fdb45-6afc-4204-b832-14967d62fedc",
   "metadata": {},
   "outputs": [
    {
     "data": {
      "text/plain": [
       "array([1, 2, 3, 4, 5, 6, 7, 8, 9])"
      ]
     },
     "execution_count": 59,
     "metadata": {},
     "output_type": "execute_result"
    }
   ],
   "source": [
    "arr2 = np.arange(10)\n",
    "arr2[1:]"
   ]
  },
  {
   "cell_type": "code",
   "execution_count": 61,
   "id": "dd037ea5-5cc8-49d5-92f3-b146fb0e6d14",
   "metadata": {},
   "outputs": [
    {
     "data": {
      "text/plain": [
       "array([[0, 1, 2],\n",
       "       [3, 4, 5]])"
      ]
     },
     "execution_count": 61,
     "metadata": {},
     "output_type": "execute_result"
    }
   ],
   "source": [
    "arr2d = np.arange(9).reshape(3, 3)\n",
    "arr2d[:2]"
   ]
  },
  {
   "cell_type": "code",
   "execution_count": 63,
   "id": "51d569c9-30ae-4ad0-bdaf-dc516ffca2c7",
   "metadata": {},
   "outputs": [
    {
     "name": "stdout",
     "output_type": "stream",
     "text": [
      "[[0 1 2]\n",
      " [3 4 5]\n",
      " [6 7 8]]\n"
     ]
    },
    {
     "data": {
      "text/plain": [
       "array([[1, 2],\n",
       "       [4, 5]])"
      ]
     },
     "execution_count": 63,
     "metadata": {},
     "output_type": "execute_result"
    }
   ],
   "source": [
    "print(arr2d)\n",
    "arr2d[:2, 1:]"
   ]
  },
  {
   "cell_type": "code",
   "execution_count": 64,
   "id": "17e813b0-ceae-427e-8e3e-a128a1c13c8f",
   "metadata": {},
   "outputs": [
    {
     "data": {
      "text/plain": [
       "array([3, 4])"
      ]
     },
     "execution_count": 64,
     "metadata": {},
     "output_type": "execute_result"
    }
   ],
   "source": [
    "arr2d[1, :2]"
   ]
  },
  {
   "cell_type": "markdown",
   "id": "84e596f5-ad0d-44ca-9584-7fc7ec8b6d00",
   "metadata": {},
   "source": [
    "### 1.5 bool 값으로 선택"
   ]
  },
  {
   "cell_type": "code",
   "execution_count": 68,
   "id": "fe4e76d5-793b-4c15-84e9-d172e4c1969b",
   "metadata": {},
   "outputs": [],
   "source": [
    "name = ['hong', 'kim', 'park', 'kim']\n",
    "score = [['수학',70], ['영어',80], ['수학',100], ['수학',80]]"
   ]
  },
  {
   "cell_type": "code",
   "execution_count": 70,
   "id": "dcb8ba5c-cf1c-4e1c-a2a7-0ae2774dd073",
   "metadata": {},
   "outputs": [],
   "source": [
    "name_arr = np.array(name)\n",
    "scores_arr = np.array(score)"
   ]
  },
  {
   "cell_type": "code",
   "execution_count": 71,
   "id": "1c594f55-8e33-4052-ad0f-689754fa6ed5",
   "metadata": {},
   "outputs": [
    {
     "name": "stdout",
     "output_type": "stream",
     "text": [
      "['hong' 'kim' 'park' 'kim']\n",
      "[['수학' '70']\n",
      " ['영어' '80']\n",
      " ['수학' '100']\n",
      " ['수학' '80']]\n"
     ]
    }
   ],
   "source": [
    "print(name_arr)\n",
    "print(scores_arr)"
   ]
  },
  {
   "cell_type": "code",
   "execution_count": 72,
   "id": "d3547e9b-dc1b-4d24-87dd-f928db551aed",
   "metadata": {},
   "outputs": [
    {
     "data": {
      "text/plain": [
       "array([False, False,  True, False])"
      ]
     },
     "execution_count": 72,
     "metadata": {},
     "output_type": "execute_result"
    }
   ],
   "source": [
    "name_arr == 'park'"
   ]
  },
  {
   "cell_type": "code",
   "execution_count": 76,
   "id": "481cb44f-a46f-49bc-8dec-da310ef95696",
   "metadata": {},
   "outputs": [
    {
     "data": {
      "text/plain": [
       "array([['수학', '100']], dtype='<U21')"
      ]
     },
     "execution_count": 76,
     "metadata": {},
     "output_type": "execute_result"
    }
   ],
   "source": [
    "scores_arr[name_arr == 'park'] #name_arr를 score안에 넣음 "
   ]
  },
  {
   "cell_type": "code",
   "execution_count": 77,
   "id": "a40615dd-3c6e-488e-953e-7605ca6a624f",
   "metadata": {},
   "outputs": [
    {
     "data": {
      "text/plain": [
       "array([['영어', '80'],\n",
       "       ['수학', '80']], dtype='<U21')"
      ]
     },
     "execution_count": 77,
     "metadata": {},
     "output_type": "execute_result"
    }
   ],
   "source": [
    "scores_arr[name_arr == 'kim']"
   ]
  },
  {
   "cell_type": "code",
   "execution_count": 78,
   "id": "417588b6-070c-4582-bb31-391d48115e10",
   "metadata": {},
   "outputs": [
    {
     "data": {
      "text/plain": [
       "array([['80'],\n",
       "       ['80']], dtype='<U21')"
      ]
     },
     "execution_count": 78,
     "metadata": {},
     "output_type": "execute_result"
    }
   ],
   "source": [
    "scores_arr[name_arr == 'kim', 1:] #보고싶은 부분만 슬라이싱도 가능 "
   ]
  },
  {
   "cell_type": "code",
   "execution_count": 79,
   "id": "e11c2e84-b1c8-4edc-8ae1-639a2302fa9a",
   "metadata": {},
   "outputs": [
    {
     "data": {
      "text/plain": [
       "array(['80', '80'], dtype='<U21')"
      ]
     },
     "execution_count": 79,
     "metadata": {},
     "output_type": "execute_result"
    }
   ],
   "source": [
    "scores_arr[name_arr == 'kim', 1]"
   ]
  },
  {
   "cell_type": "code",
   "execution_count": 81,
   "id": "b0a66b14-bab4-4a72-81dd-6caa8d29bda2",
   "metadata": {},
   "outputs": [
    {
     "name": "stdout",
     "output_type": "stream",
     "text": [
      "[ True False  True False]\n",
      "[ True False  True False]\n"
     ]
    }
   ],
   "source": [
    "print(name_arr != 'kim')\n",
    "print(~(name_arr == 'kim'))"
   ]
  },
  {
   "cell_type": "code",
   "execution_count": 82,
   "id": "cd6106db-f5c7-4bbe-8dda-170197f14977",
   "metadata": {},
   "outputs": [
    {
     "data": {
      "text/plain": [
       "array([['수학', '70']], dtype='<U21')"
      ]
     },
     "execution_count": 82,
     "metadata": {},
     "output_type": "execute_result"
    }
   ],
   "source": [
    "cond = name_arr == 'hong'\n",
    "scores_arr[cond]"
   ]
  },
  {
   "cell_type": "code",
   "execution_count": 83,
   "id": "fa800b4a-f90d-48dd-8ba7-bfc816fdce98",
   "metadata": {},
   "outputs": [
    {
     "data": {
      "text/plain": [
       "array([['영어', '80'],\n",
       "       ['수학', '100'],\n",
       "       ['수학', '80']], dtype='<U21')"
      ]
     },
     "execution_count": 83,
     "metadata": {},
     "output_type": "execute_result"
    }
   ],
   "source": [
    "cond = (name_arr == 'kim') | (name_arr == 'park')\n",
    "scores_arr[cond]"
   ]
  },
  {
   "cell_type": "markdown",
   "id": "a6deb077-499e-4231-bde4-06c4263b8997",
   "metadata": {},
   "source": [
    "### 1.6 팬시 인덱싱"
   ]
  },
  {
   "cell_type": "code",
   "execution_count": 95,
   "id": "83fbab49-9e27-4b95-ad0f-07ed5f20cc6c",
   "metadata": {},
   "outputs": [
    {
     "name": "stdout",
     "output_type": "stream",
     "text": [
      "[[ 0  1  2  3  4]\n",
      " [ 5  6  7  8  9]\n",
      " [10 11 12 13 14]\n",
      " [15 16 17 18 19]]\n"
     ]
    }
   ],
   "source": [
    "arr = np.arange(20).reshape(4, 5)\n",
    "print(arr)"
   ]
  },
  {
   "cell_type": "code",
   "execution_count": 97,
   "id": "26077e3c-5a05-4602-9a6b-8703ce12ad78",
   "metadata": {},
   "outputs": [
    {
     "name": "stdout",
     "output_type": "stream",
     "text": [
      "[0 1 2 3 4]\n"
     ]
    }
   ],
   "source": [
    "print(arr[0])"
   ]
  },
  {
   "cell_type": "code",
   "execution_count": 98,
   "id": "ea3c6e03-dec0-4970-952c-387d66fea5c7",
   "metadata": {},
   "outputs": [
    {
     "name": "stdout",
     "output_type": "stream",
     "text": [
      "9\n"
     ]
    }
   ],
   "source": [
    "print(arr[-3, -1]) #마이너스도 가능 "
   ]
  },
  {
   "cell_type": "code",
   "execution_count": null,
   "id": "8cf901d6-d087-4013-8ca6-11e97b518325",
   "metadata": {},
   "outputs": [],
   "source": [
    "#???"
   ]
  },
  {
   "cell_type": "markdown",
   "id": "ad39524d-14f7-434d-86b5-0e7bcc20aa74",
   "metadata": {},
   "source": [
    "### 1.7 전치"
   ]
  },
  {
   "cell_type": "code",
   "execution_count": 103,
   "id": "b39f59ea-01d3-4562-b7f3-0f54f144139c",
   "metadata": {},
   "outputs": [
    {
     "name": "stdout",
     "output_type": "stream",
     "text": [
      "[[ 0  1  2  3  4]\n",
      " [ 5  6  7  8  9]\n",
      " [10 11 12 13 14]]\n",
      "[[ 0  5 10]\n",
      " [ 1  6 11]\n",
      " [ 2  7 12]\n",
      " [ 3  8 13]\n",
      " [ 4  9 14]]\n"
     ]
    }
   ],
   "source": [
    "arr = np.arange(15).reshape(3,5)\n",
    "print(arr)\n",
    "print(arr.T)"
   ]
  },
  {
   "cell_type": "code",
   "execution_count": 106,
   "id": "e5ceaae3-fccc-4901-8c31-0cab311b4cfd",
   "metadata": {},
   "outputs": [
    {
     "name": "stdout",
     "output_type": "stream",
     "text": [
      "[[ 30  80 130]\n",
      " [ 80 255 430]\n",
      " [130 430 730]]\n",
      "[[ 30  80 130]\n",
      " [ 80 255 430]\n",
      " [130 430 730]]\n"
     ]
    }
   ],
   "source": [
    "print(np.dot(arr, arr.T))\n",
    "print(arr @ arr.T)"
   ]
  },
  {
   "cell_type": "markdown",
   "id": "58ea778d-4a8b-437f-911e-0f62723e2dd7",
   "metadata": {},
   "source": [
    "### 1.8 난수 생성 "
   ]
  },
  {
   "cell_type": "code",
   "execution_count": 109,
   "id": "a509e326-6ec4-4499-a2cc-7b1edd5303ae",
   "metadata": {},
   "outputs": [
    {
     "name": "stdout",
     "output_type": "stream",
     "text": [
      "[[ 0.76769877 -1.11942086 -1.64471747  1.66098801]\n",
      " [ 0.14449445 -0.20958947 -1.02567093  0.99688744]\n",
      " [ 0.63977493 -1.20792028  0.98096776 -1.05553659]\n",
      " [-0.32709281  0.5020972   0.42065201  1.57536009]]\n"
     ]
    }
   ],
   "source": [
    "sample = np.random.standard_normal(size = (4,4))\n",
    "print(sample)"
   ]
  },
  {
   "cell_type": "code",
   "execution_count": 110,
   "id": "91b7c368-8e49-4cf6-b5cc-e6b673c67b16",
   "metadata": {},
   "outputs": [
    {
     "name": "stdout",
     "output_type": "stream",
     "text": [
      "[[0.5893614  1.25310306 2.70509556 2.75888116]\n",
      " [0.02087865 0.04392775 1.05200086 0.99378457]\n",
      " [0.40931195 1.45907139 0.96229775 1.1141575 ]\n",
      " [0.1069897  0.2521016  0.17694812 2.4817594 ]]\n"
     ]
    }
   ],
   "source": [
    "print(np.square(sample))"
   ]
  },
  {
   "cell_type": "code",
   "execution_count": 112,
   "id": "841f0da2-5a8c-447a-820a-adad9c1be9b1",
   "metadata": {},
   "outputs": [
    {
     "name": "stdout",
     "output_type": "stream",
     "text": [
      "[[0.87618421        nan        nan 1.28879324]\n",
      " [0.38012426        nan        nan 0.99844251]\n",
      " [0.79985932        nan 0.99043817        nan]\n",
      " [       nan 0.70858817 0.64857691 1.25513349]]\n"
     ]
    },
    {
     "name": "stderr",
     "output_type": "stream",
     "text": [
      "C:\\Users\\2-23\\AppData\\Local\\Temp\\ipykernel_9084\\4055497302.py:1: RuntimeWarning: invalid value encountered in sqrt\n",
      "  print(np.sqrt(sample))\n"
     ]
    }
   ],
   "source": [
    "print(np.sqrt(sample))\n",
    "#nan 숫자가 아닙니다, 음수에서 루트를 못 씌우기 때문 "
   ]
  },
  {
   "cell_type": "code",
   "execution_count": 113,
   "id": "1f92b189-d022-4e53-b0fa-27f670cf1f3a",
   "metadata": {},
   "outputs": [
    {
     "name": "stdout",
     "output_type": "stream",
     "text": [
      "[[0.76769877 1.11942086 1.64471747 1.66098801]\n",
      " [0.14449445 0.20958947 1.02567093 0.99688744]\n",
      " [0.63977493 1.20792028 0.98096776 1.05553659]\n",
      " [0.32709281 0.5020972  0.42065201 1.57536009]]\n"
     ]
    }
   ],
   "source": [
    "print(np.abs(sample))"
   ]
  },
  {
   "cell_type": "code",
   "execution_count": 115,
   "id": "39e498fa-d824-4f82-8e58-8454df54fe6c",
   "metadata": {},
   "outputs": [
    {
     "name": "stderr",
     "output_type": "stream",
     "text": [
      "C:\\Users\\2-23\\AppData\\Local\\Temp\\ipykernel_9084\\619758985.py:1: RuntimeWarning: invalid value encountered in sqrt\n",
      "  np.isnan(np.sqrt(sample))\n"
     ]
    },
    {
     "data": {
      "text/plain": [
       "array([[False,  True,  True, False],\n",
       "       [False,  True,  True, False],\n",
       "       [False,  True, False,  True],\n",
       "       [ True, False, False, False]])"
      ]
     },
     "execution_count": 115,
     "metadata": {},
     "output_type": "execute_result"
    }
   ],
   "source": [
    "np.isnan(np.sqrt(sample)) #sqrt한걸 isnan 에 넣어주는 것 "
   ]
  },
  {
   "cell_type": "code",
   "execution_count": 129,
   "id": "fd800bed-bd41-4b26-8ac7-89a2fce1e21c",
   "metadata": {},
   "outputs": [
    {
     "name": "stdout",
     "output_type": "stream",
     "text": [
      "[  0   1   0 ... -46 -45 -44]\n"
     ]
    }
   ],
   "source": [
    "import random\n",
    "position = 0\n",
    "walk = [position]\n",
    "nsteps = 1000\n",
    "\n",
    "for _ in range(nsteps):\n",
    "    step = 1 if random.randint(0,1) else -1\n",
    "    position+=step\n",
    "    walk.append(position)\n",
    "walk_arr = np.array(walk)\n",
    "\n",
    "print(walk_arr)\n"
   ]
  },
  {
   "cell_type": "code",
   "execution_count": 130,
   "id": "c08245c0-088c-4e12-945e-c0f6683b7e86",
   "metadata": {},
   "outputs": [
    {
     "data": {
      "text/plain": [
       "<Figure size 640x480 with 0 Axes>"
      ]
     },
     "execution_count": 130,
     "metadata": {},
     "output_type": "execute_result"
    },
    {
     "data": {
      "text/plain": [
       "<Figure size 640x480 with 0 Axes>"
      ]
     },
     "metadata": {},
     "output_type": "display_data"
    }
   ],
   "source": [
    "import matplotlib.pyplot as plt\n",
    "plt.figure()"
   ]
  },
  {
   "cell_type": "code",
   "execution_count": 131,
   "id": "ed39ac07-e6d8-4d89-88a4-f570e2b4c96b",
   "metadata": {},
   "outputs": [
    {
     "data": {
      "text/plain": [
       "<function matplotlib.pyplot.show(close=None, block=None)>"
      ]
     },
     "execution_count": 131,
     "metadata": {},
     "output_type": "execute_result"
    },
    {
     "data": {
      "image/png": "[encoded data removed]",
      "text/plain": [
       "<Figure size 640x480 with 1 Axes>"
      ]
     },
     "metadata": {},
     "output_type": "display_data"
    }
   ],
   "source": [
    "plt.plot(walk_arr[:100])\n",
    "plt.show"
   ]
  },
  {
   "cell_type": "code",
   "execution_count": 132,
   "id": "23d50f53-8aef-4046-906b-35701570f323",
   "metadata": {},
   "outputs": [
    {
     "name": "stdout",
     "output_type": "stream",
     "text": [
      "1\n",
      "-19\n",
      "0\n"
     ]
    }
   ],
   "source": [
    "print(walk_arr[:100].max())\n",
    "print(walk_arr[:100].min())\n",
    "print((walk_arr[:100] >= 5).argmax())"
   ]
  }
 ],
 "metadata": {
  "kernelspec": {
   "display_name": "Python 3 (ipykernel)",
   "language": "python",
   "name": "python3"
  },
  "language_info": {
   "codemirror_mode": {
    "name": "ipython",
    "version": 3
   },
   "file_extension": ".py",
   "mimetype": "text/x-python",
   "name": "python",
   "nbconvert_exporter": "python",
   "pygments_lexer": "ipython3",
   "version": "3.12.4"
  }
 },
 "nbformat": 4,
 "nbformat_minor": 5
}
