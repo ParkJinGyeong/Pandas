{
 "cells": [
  {
   "cell_type": "code",
   "execution_count": 1,
   "id": "7897b979-ee24-46b6-8634-bd30948d85a2",
   "metadata": {},
   "outputs": [],
   "source": [
    "import numpy as np"
   ]
  },
  {
   "cell_type": "code",
   "execution_count": 2,
   "id": "f5a8eb05-cc2b-476f-b155-3b21fde05c90",
   "metadata": {},
   "outputs": [],
   "source": [
    "my_arr = np.arange(100)"
   ]
  },
  {
   "cell_type": "code",
   "execution_count": 3,
   "id": "732f2906-c134-427f-a81a-0c13dca7a1a4",
   "metadata": {},
   "outputs": [
    {
     "name": "stdout",
     "output_type": "stream",
     "text": [
      "[[   5.     1.1   -5. ]\n",
      " [ 123.  -123.     0. ]]\n"
     ]
    }
   ],
   "source": [
    "a = [\n",
    "    [5, 1.1, -5],\n",
    "    [123, -123,0]\n",
    "]\n",
    "data = np.array(a)\n",
    "print(data)"
   ]
  },
  {
   "cell_type": "code",
   "execution_count": 7,
   "id": "49a14f8f-f13d-4692-9bd5-06432a2b41f3",
   "metadata": {},
   "outputs": [
    {
     "name": "stdout",
     "output_type": "stream",
     "text": [
      "[1 2 3 4 5]\n",
      "[1. 2. 3. 4. 5.]\n",
      "float16\n"
     ]
    }
   ],
   "source": [
    "arr = np.array([1, 2, 3, 4, 5])\n",
    "print(arr)\n",
    "float_arr = arr.astype(np.float16)\n",
    "print(float_arr)\n",
    "print(float_arr.dtype)"
   ]
  },
  {
   "cell_type": "code",
   "execution_count": 35,
   "id": "93df7ea2-c261-4a9d-9154-5f2ab74ffe03",
   "metadata": {},
   "outputs": [
    {
     "name": "stdout",
     "output_type": "stream",
     "text": [
      "[0 1 2 3 4 5 6 7 8 9]\n"
     ]
    }
   ],
   "source": [
    "arr_original = np.arange(10)\n",
    "print(arr_original)"
   ]
  },
  {
   "cell_type": "code",
   "execution_count": 36,
   "id": "55d2b9d8-44f6-4859-97d6-2793d28e8174",
   "metadata": {},
   "outputs": [
    {
     "name": "stdout",
     "output_type": "stream",
     "text": [
      "5\n",
      "2\n",
      "[0 1 2 3 4]\n"
     ]
    }
   ],
   "source": [
    "print(arr_original[5])\n",
    "print(arr_original[2]) #시작점 끝점 간격 \n",
    "print(arr_original[:5]) #슬라이싱할때 값 1차원만 넣어야함, 여러개 넣고 싶으면 ':'로 연결 "
   ]
  },
  {
   "cell_type": "code",
   "execution_count": 37,
   "id": "a2b5a816-0551-46c6-8acd-d1045a5d6ce5",
   "metadata": {},
   "outputs": [],
   "source": [
    "arr_original[3:6] = 99"
   ]
  },
  {
   "cell_type": "code",
   "execution_count": 38,
   "id": "7928e71b-cf78-43a4-a840-d814afd74520",
   "metadata": {},
   "outputs": [
    {
     "name": "stdout",
     "output_type": "stream",
     "text": [
      "[ 0  1  2 99 99 99  6  7  8  9]\n"
     ]
    }
   ],
   "source": [
    "print(arr_original)"
   ]
  },
  {
   "cell_type": "code",
   "execution_count": 39,
   "id": "e4ee80a5-0acc-43bd-9dc0-24d934ead89e",
   "metadata": {},
   "outputs": [
    {
     "name": "stdout",
     "output_type": "stream",
     "text": [
      "[99 99 99]\n"
     ]
    }
   ],
   "source": [
    "slice_arr = arr_original[3:6]\n",
    "print(slice_arr)"
   ]
  },
  {
   "cell_type": "code",
   "execution_count": 41,
   "id": "82fd69c7-06cd-443a-94ae-b483788b52e7",
   "metadata": {},
   "outputs": [
    {
     "name": "stdout",
     "output_type": "stream",
     "text": [
      "[   99 19999    99]\n",
      "[    0     1     2    99 19999    99     6     7     8     9]\n"
     ]
    }
   ],
   "source": [
    "slice_arr[1] = 19999 #slice한 범위 기준으로 자리 세기\n",
    "print(slice_arr)\n",
    "print(arr_original)"
   ]
  },
  {
   "cell_type": "raw",
   "id": "66661dde-e72f-4ab9-a0f7-c9f8e416b707",
   "metadata": {},
   "source": []
  }
 ],
 "metadata": {
  "kernelspec": {
   "display_name": "Python 3 (ipykernel)",
   "language": "python",
   "name": "python3"
  },
  "language_info": {
   "codemirror_mode": {
    "name": "ipython",
    "version": 3
   },
   "file_extension": ".py",
   "mimetype": "text/x-python",
   "name": "python",
   "nbconvert_exporter": "python",
   "pygments_lexer": "ipython3",
   "version": "3.12.4"
  }
 },
 "nbformat": 4,
 "nbformat_minor": 5
}
